{
 "cells": [
  {
   "cell_type": "code",
   "execution_count": 60,
   "metadata": {},
   "outputs": [
    {
     "name": "stdout",
     "output_type": "stream",
     "text": [
      "Requirement already satisfied: pyspark in ./venv/lib/python3.8/site-packages (3.3.0)\n",
      "Requirement already satisfied: py4j==0.10.9.5 in ./venv/lib/python3.8/site-packages (from pyspark) (0.10.9.5)\n",
      "\u001b[33mWARNING: You are using pip version 22.0.4; however, version 22.2.2 is available.\n",
      "You should consider upgrading via the '/Users/igli/Spark-Capstone-Project/venv/bin/python -m pip install --upgrade pip' command.\u001b[0m\u001b[33m\n",
      "\u001b[0mNote: you may need to restart the kernel to use updated packages.\n",
      "Requirement already satisfied: seaborn in ./venv/lib/python3.8/site-packages (0.11.2)\n",
      "Requirement already satisfied: pandas>=0.23 in ./venv/lib/python3.8/site-packages (from seaborn) (1.4.4)\n",
      "Requirement already satisfied: matplotlib>=2.2 in ./venv/lib/python3.8/site-packages (from seaborn) (3.5.3)\n",
      "Requirement already satisfied: scipy>=1.0 in ./venv/lib/python3.8/site-packages (from seaborn) (1.9.1)\n",
      "Requirement already satisfied: numpy>=1.15 in ./venv/lib/python3.8/site-packages (from seaborn) (1.23.2)\n",
      "Requirement already satisfied: packaging>=20.0 in ./venv/lib/python3.8/site-packages (from matplotlib>=2.2->seaborn) (21.3)\n",
      "Requirement already satisfied: fonttools>=4.22.0 in ./venv/lib/python3.8/site-packages (from matplotlib>=2.2->seaborn) (4.37.1)\n",
      "Requirement already satisfied: pillow>=6.2.0 in ./venv/lib/python3.8/site-packages (from matplotlib>=2.2->seaborn) (9.2.0)\n",
      "Requirement already satisfied: cycler>=0.10 in ./venv/lib/python3.8/site-packages (from matplotlib>=2.2->seaborn) (0.11.0)\n",
      "Requirement already satisfied: kiwisolver>=1.0.1 in ./venv/lib/python3.8/site-packages (from matplotlib>=2.2->seaborn) (1.4.4)\n",
      "Requirement already satisfied: pyparsing>=2.2.1 in ./venv/lib/python3.8/site-packages (from matplotlib>=2.2->seaborn) (3.0.9)\n",
      "Requirement already satisfied: python-dateutil>=2.7 in ./venv/lib/python3.8/site-packages (from matplotlib>=2.2->seaborn) (2.8.2)\n",
      "Requirement already satisfied: pytz>=2020.1 in ./venv/lib/python3.8/site-packages (from pandas>=0.23->seaborn) (2022.2.1)\n",
      "Requirement already satisfied: six>=1.5 in ./venv/lib/python3.8/site-packages (from python-dateutil>=2.7->matplotlib>=2.2->seaborn) (1.16.0)\n",
      "\u001b[33mWARNING: You are using pip version 22.0.4; however, version 22.2.2 is available.\n",
      "You should consider upgrading via the '/Users/igli/Spark-Capstone-Project/venv/bin/python -m pip install --upgrade pip' command.\u001b[0m\u001b[33m\n",
      "\u001b[0mNote: you may need to restart the kernel to use updated packages.\n",
      "Requirement already satisfied: matplotlib in ./venv/lib/python3.8/site-packages (3.5.3)\n",
      "Requirement already satisfied: cycler>=0.10 in ./venv/lib/python3.8/site-packages (from matplotlib) (0.11.0)\n",
      "Requirement already satisfied: pillow>=6.2.0 in ./venv/lib/python3.8/site-packages (from matplotlib) (9.2.0)\n",
      "Requirement already satisfied: numpy>=1.17 in ./venv/lib/python3.8/site-packages (from matplotlib) (1.23.2)\n",
      "Requirement already satisfied: kiwisolver>=1.0.1 in ./venv/lib/python3.8/site-packages (from matplotlib) (1.4.4)\n",
      "Requirement already satisfied: fonttools>=4.22.0 in ./venv/lib/python3.8/site-packages (from matplotlib) (4.37.1)\n",
      "Requirement already satisfied: packaging>=20.0 in ./venv/lib/python3.8/site-packages (from matplotlib) (21.3)\n",
      "Requirement already satisfied: python-dateutil>=2.7 in ./venv/lib/python3.8/site-packages (from matplotlib) (2.8.2)\n",
      "Requirement already satisfied: pyparsing>=2.2.1 in ./venv/lib/python3.8/site-packages (from matplotlib) (3.0.9)\n",
      "Requirement already satisfied: six>=1.5 in ./venv/lib/python3.8/site-packages (from python-dateutil>=2.7->matplotlib) (1.16.0)\n",
      "\u001b[33mWARNING: You are using pip version 22.0.4; however, version 22.2.2 is available.\n",
      "You should consider upgrading via the '/Users/igli/Spark-Capstone-Project/venv/bin/python -m pip install --upgrade pip' command.\u001b[0m\u001b[33m\n",
      "\u001b[0mNote: you may need to restart the kernel to use updated packages.\n"
     ]
    }
   ],
   "source": [
    "%pip install pyspark\n",
    "%pip install seaborn\n",
    "%pip install matplotlib"
   ]
  },
  {
   "cell_type": "code",
   "execution_count": 61,
   "metadata": {},
   "outputs": [],
   "source": [
    "from pyspark.sql import SparkSession"
   ]
  },
  {
   "cell_type": "code",
   "execution_count": 62,
   "metadata": {},
   "outputs": [],
   "source": [
    "spark = SparkSession \\\n",
    "    .builder \\\n",
    "    .config(\"spark.driver.memory\", \"10g\") \\\n",
    "    .appName(\"local\") \\\n",
    "    .getOrCreate()"
   ]
  },
  {
   "cell_type": "code",
   "execution_count": 63,
   "metadata": {},
   "outputs": [
    {
     "name": "stderr",
     "output_type": "stream",
     "text": [
      "[Stage 344:>                                                      (0 + 16) / 16]\r"
     ]
    },
    {
     "name": "stdout",
     "output_type": "stream",
     "text": [
      "+--------------------+----+---+------+--------------+----------------------+\n",
      "|                msno|city| bd|gender|registered_via|registration_init_time|\n",
      "+--------------------+----+---+------+--------------+----------------------+\n",
      "|Rb9UwLQTrxzBVwCB6...|   1|  0|  null|            11|              20110911|\n",
      "|+tJonkh+O1CA796Fm...|   1|  0|  null|             7|              20110914|\n",
      "|cV358ssn7a0f7jZOw...|   1|  0|  null|            11|              20110915|\n",
      "|9bzDeJP6sQodK73K5...|   1|  0|  null|            11|              20110915|\n",
      "|WFLY3s7z4EZsieHCt...|   6| 32|female|             9|              20110915|\n",
      "+--------------------+----+---+------+--------------+----------------------+\n",
      "only showing top 5 rows\n",
      "\n"
     ]
    },
    {
     "name": "stderr",
     "output_type": "stream",
     "text": [
      "                                                                                \r"
     ]
    }
   ],
   "source": [
    "members_df = spark.read.csv(\"data/members_v3.csv\", header=True, inferSchema=True)\n",
    "members_df.show(5)"
   ]
  },
  {
   "cell_type": "code",
   "execution_count": 64,
   "metadata": {},
   "outputs": [
    {
     "name": "stdout",
     "output_type": "stream",
     "text": [
      "root\n",
      " |-- msno: string (nullable = true)\n",
      " |-- city: integer (nullable = true)\n",
      " |-- bd: integer (nullable = true)\n",
      " |-- gender: string (nullable = true)\n",
      " |-- registered_via: integer (nullable = true)\n",
      " |-- registration_init_time: integer (nullable = true)\n",
      "\n"
     ]
    }
   ],
   "source": [
    "members_df.printSchema()"
   ]
  },
  {
   "cell_type": "code",
   "execution_count": 65,
   "metadata": {},
   "outputs": [
    {
     "name": "stdout",
     "output_type": "stream",
     "text": [
      "+--------------------+-----------------+-----------------+---------------+------------------+-------------+----------------+----------------------+---------+\n",
      "|                msno|payment_method_id|payment_plan_days|plan_list_price|actual_amount_paid|is_auto_renew|transaction_date|membership_expire_date|is_cancel|\n",
      "+--------------------+-----------------+-----------------+---------------+------------------+-------------+----------------+----------------------+---------+\n",
      "|++6eU4LsQ3UQ20ILS...|               32|               90|            298|               298|            0|        20170131|              20170504|        0|\n",
      "|++lvGPJOinuin/8es...|               41|               30|            149|               149|            1|        20150809|              20190412|        0|\n",
      "|+/GXNtXWQVfKrEDqY...|               36|               30|            180|               180|            1|        20170303|              20170422|        0|\n",
      "|+/w1UrZwyka4C9oNH...|               36|               30|            180|               180|            1|        20170329|              20170331|        1|\n",
      "|+00PGzKTYqtnb65mP...|               41|               30|             99|                99|            1|        20170323|              20170423|        0|\n",
      "+--------------------+-----------------+-----------------+---------------+------------------+-------------+----------------+----------------------+---------+\n",
      "only showing top 5 rows\n",
      "\n"
     ]
    }
   ],
   "source": [
    "transactions_df = spark.read.csv(\"data/transactions/churn_comp_refresh/transactions_v2.csv\", header=True, inferSchema=True)\n",
    "transactions_df.show(5)"
   ]
  },
  {
   "cell_type": "code",
   "execution_count": 66,
   "metadata": {},
   "outputs": [
    {
     "name": "stdout",
     "output_type": "stream",
     "text": [
      "root\n",
      " |-- msno: string (nullable = true)\n",
      " |-- payment_method_id: integer (nullable = true)\n",
      " |-- payment_plan_days: integer (nullable = true)\n",
      " |-- plan_list_price: integer (nullable = true)\n",
      " |-- actual_amount_paid: integer (nullable = true)\n",
      " |-- is_auto_renew: integer (nullable = true)\n",
      " |-- transaction_date: integer (nullable = true)\n",
      " |-- membership_expire_date: integer (nullable = true)\n",
      " |-- is_cancel: integer (nullable = true)\n",
      "\n"
     ]
    }
   ],
   "source": [
    "transactions_df.printSchema()"
   ]
  },
  {
   "cell_type": "code",
   "execution_count": 67,
   "metadata": {},
   "outputs": [
    {
     "data": {
      "text/plain": [
       "1431009"
      ]
     },
     "execution_count": 67,
     "metadata": {},
     "output_type": "execute_result"
    }
   ],
   "source": [
    "transactions_df.count()"
   ]
  },
  {
   "cell_type": "code",
   "execution_count": 68,
   "metadata": {},
   "outputs": [
    {
     "name": "stderr",
     "output_type": "stream",
     "text": [
      "[Stage 353:>                                                      (0 + 16) / 16]\r"
     ]
    },
    {
     "name": "stdout",
     "output_type": "stream",
     "text": [
      "+--------------------+--------+------+------+------+-------+-------+-------+----------+\n",
      "|                msno|    date|num_25|num_50|num_75|num_985|num_100|num_unq|total_secs|\n",
      "+--------------------+--------+------+------+------+-------+-------+-------+----------+\n",
      "|u9E91QDTvHLq6NXjE...|20170331|     8|     4|     0|      1|     21|     18|  6309.273|\n",
      "|nTeWW/eOZA/UHKdD5...|20170330|     2|     2|     1|      0|      9|     11|  2390.699|\n",
      "|2UqkWXwZbIjs03dHL...|20170331|    52|     3|     5|      3|     84|    110| 23203.337|\n",
      "|ycwLc+m2O0a85jSLA...|20170331|   176|     4|     2|      2|     19|    191|  7100.454|\n",
      "|EGcbTofOSOkMmQyN1...|20170331|     2|     1|     0|      1|    112|     93| 28401.558|\n",
      "+--------------------+--------+------+------+------+-------+-------+-------+----------+\n",
      "only showing top 5 rows\n",
      "\n"
     ]
    },
    {
     "name": "stderr",
     "output_type": "stream",
     "text": [
      "                                                                                \r"
     ]
    }
   ],
   "source": [
    "user_logs_df = spark.read.csv(\"data/user_logs/churn_comp_refresh/user_logs_v2.csv\", header=True, inferSchema=True)\n",
    "user_logs_df.show(5)"
   ]
  },
  {
   "cell_type": "code",
   "execution_count": 69,
   "metadata": {},
   "outputs": [
    {
     "name": "stdout",
     "output_type": "stream",
     "text": [
      "+--------------------+--------+\n",
      "|                msno|is_churn|\n",
      "+--------------------+--------+\n",
      "|ugx0CjOMzazClkFzU...|       1|\n",
      "|f/NmvEzHfhINFEYZT...|       1|\n",
      "|zLo9f73nGGT1p21lt...|       1|\n",
      "|8iF/+8HY8lJKFrTc7...|       1|\n",
      "|K6fja4+jmoZ5xG6By...|       1|\n",
      "+--------------------+--------+\n",
      "only showing top 5 rows\n",
      "\n"
     ]
    }
   ],
   "source": [
    "train_df = spark.read.csv(\"data/train/churn_comp_refresh/train_v2.csv\", header=True, inferSchema=True)\n",
    "train_df.show(5)"
   ]
  },
  {
   "cell_type": "code",
   "execution_count": 70,
   "metadata": {},
   "outputs": [
    {
     "name": "stderr",
     "output_type": "stream",
     "text": [
      "[Stage 358:==========>                                            (3 + 13) / 16]\r"
     ]
    },
    {
     "name": "stdout",
     "output_type": "stream",
     "text": [
      "+--------------------+------------+-----------+-----------+------------+-----------+------------+------------------+\n",
      "|                msno|sum(num_100)|sum(num_25)|sum(num_75)|sum(num_unq)|sum(num_50)|sum(num_985)|   sum(total_secs)|\n",
      "+--------------------+------------+-----------+-----------+------------+-----------+------------+------------------+\n",
      "|qufKUjlo3SOny5C/6...|        1489|          4|          7|         574|          2|           8|        367033.421|\n",
      "|ORUaiH4z66kfVaKGv...|        1851|         66|         31|        1564|         32|          44|446735.52499999997|\n",
      "|43522HpkDYxZI7k9V...|         593|         72|          9|         550|         11|           4|154447.03999999998|\n",
      "|nSmTz9Kn4H6Ij9rvI...|        1504|        725|        264|        2186|        325|         425|        545537.587|\n",
      "|met2zqqAa6vxyrybR...|        1169|        344|         56|        1165|         97|          40|        313319.601|\n",
      "+--------------------+------------+-----------+-----------+------------+-----------+------------+------------------+\n",
      "only showing top 5 rows\n",
      "\n"
     ]
    },
    {
     "name": "stderr",
     "output_type": "stream",
     "text": [
      "                                                                                \r"
     ]
    }
   ],
   "source": [
    "logs_agg = user_logs_df.groupBy('msno').agg({'num_25': 'sum', 'num_50': 'sum', 'num_75': 'sum', 'num_985': 'sum', 'num_100': 'sum', 'num_unq': 'sum', 'total_secs': 'sum'})\n",
    "logs_agg.show(5)"
   ]
  },
  {
   "cell_type": "code",
   "execution_count": 71,
   "metadata": {},
   "outputs": [
    {
     "name": "stderr",
     "output_type": "stream",
     "text": [
      "[Stage 361:==================================>                    (10 + 6) / 16]\r"
     ]
    },
    {
     "name": "stdout",
     "output_type": "stream",
     "text": [
      "+--------------------+------------+-----------+-----------+------------+-----------+------------+------------------+--------------+\n",
      "|                msno|sum(num_100)|sum(num_25)|sum(num_75)|sum(num_unq)|sum(num_50)|sum(num_985)|   sum(total_secs)|sum(num_total)|\n",
      "+--------------------+------------+-----------+-----------+------------+-----------+------------+------------------+--------------+\n",
      "|qufKUjlo3SOny5C/6...|        1489|          4|          7|         574|          2|           8|        367033.421|          1510|\n",
      "|ORUaiH4z66kfVaKGv...|        1851|         66|         31|        1564|         32|          44|446735.52499999997|          2024|\n",
      "|43522HpkDYxZI7k9V...|         593|         72|          9|         550|         11|           4|154447.03999999998|           689|\n",
      "|nSmTz9Kn4H6Ij9rvI...|        1504|        725|        264|        2186|        325|         425|        545537.587|          3243|\n",
      "|met2zqqAa6vxyrybR...|        1169|        344|         56|        1165|         97|          40|        313319.601|          1706|\n",
      "+--------------------+------------+-----------+-----------+------------+-----------+------------+------------------+--------------+\n",
      "only showing top 5 rows\n",
      "\n"
     ]
    },
    {
     "name": "stderr",
     "output_type": "stream",
     "text": [
      "                                                                                \r"
     ]
    }
   ],
   "source": [
    "logs_agg = logs_agg.withColumn('sum(num_total)', sum([logs_agg['sum(num_25)'], logs_agg['sum(num_50)'], logs_agg['sum(num_75)'], logs_agg['sum(num_985)'], logs_agg['sum(num_100)']]))\n",
    "logs_agg.show(5)"
   ]
  },
  {
   "cell_type": "code",
   "execution_count": 72,
   "metadata": {},
   "outputs": [
    {
     "name": "stderr",
     "output_type": "stream",
     "text": [
      "[Stage 365:========================>                               (7 + 9) / 16]\r"
     ]
    },
    {
     "name": "stdout",
     "output_type": "stream",
     "text": [
      "+--------------------+--------+------------+-----------+-----------+------------+-----------+------------+------------------+--------------+\n",
      "|                msno|is_churn|sum(num_100)|sum(num_25)|sum(num_75)|sum(num_unq)|sum(num_50)|sum(num_985)|   sum(total_secs)|sum(num_total)|\n",
      "+--------------------+--------+------------+-----------+-----------+------------+-----------+------------+------------------+--------------+\n",
      "|++0/NopttBsaAn6qH...|       0|         104|         21|         17|         115|          8|           7|         28450.268|           157|\n",
      "|++4RuqBw0Ss6bQU4o...|       0|           9|         14|          0|          24|          1|           0|          2362.332|            24|\n",
      "|++6P09mCSJSh+Ft2p...|       0|          12|          0|          0|          14|          2|           0|          2994.947|            14|\n",
      "|++JHjhFuSV7upQUju...|       0|           2|          1|          1|           5|          1|           1|           854.165|             6|\n",
      "|++UrWpg7IekInPcWf...|       0|          73|         31|          6|         105|          7|           5|18940.653000000002|           122|\n",
      "+--------------------+--------+------------+-----------+-----------+------------+-----------+------------+------------------+--------------+\n",
      "only showing top 5 rows\n",
      "\n"
     ]
    },
    {
     "name": "stderr",
     "output_type": "stream",
     "text": [
      "                                                                                \r"
     ]
    }
   ],
   "source": [
    "data = train_df.join(logs_agg, 'msno')\n",
    "data.show(5)"
   ]
  },
  {
   "cell_type": "code",
   "execution_count": 73,
   "metadata": {},
   "outputs": [
    {
     "name": "stderr",
     "output_type": "stream",
     "text": [
      "[Stage 370:============================================>          (13 + 3) / 16]\r"
     ]
    },
    {
     "name": "stdout",
     "output_type": "stream",
     "text": [
      "+--------------------+--------+------------+-----------+-----------+------------+-----------+------------+------------------+--------------+--------------------+-----+\n",
      "|                msno|is_churn|sum(num_100)|sum(num_25)|sum(num_75)|sum(num_unq)|sum(num_50)|sum(num_985)|   sum(total_secs)|sum(num_total)|            features|label|\n",
      "+--------------------+--------+------------+-----------+-----------+------------+-----------+------------+------------------+--------------+--------------------+-----+\n",
      "|++0/NopttBsaAn6qH...|       0|         104|         21|         17|         115|          8|           7|         28450.268|           157|[104.0,21.0,17.0,...|    0|\n",
      "|++4RuqBw0Ss6bQU4o...|       0|           9|         14|          0|          24|          1|           0|          2362.332|            24|[9.0,14.0,0.0,24....|    0|\n",
      "|++6P09mCSJSh+Ft2p...|       0|          12|          0|          0|          14|          2|           0|          2994.947|            14|[12.0,0.0,0.0,14....|    0|\n",
      "|++JHjhFuSV7upQUju...|       0|           2|          1|          1|           5|          1|           1|           854.165|             6|[2.0,1.0,1.0,5.0,...|    0|\n",
      "|++UrWpg7IekInPcWf...|       0|          73|         31|          6|         105|          7|           5|18940.653000000002|           122|[73.0,31.0,6.0,10...|    0|\n",
      "+--------------------+--------+------------+-----------+-----------+------------+-----------+------------+------------------+--------------+--------------------+-----+\n",
      "only showing top 5 rows\n",
      "\n"
     ]
    },
    {
     "name": "stderr",
     "output_type": "stream",
     "text": [
      "                                                                                \r"
     ]
    }
   ],
   "source": [
    "from pyspark.ml.feature import VectorAssembler\n",
    "\n",
    "cols = [col for col in data.drop('msno').drop('is_churn').columns]\n",
    "\n",
    "assembler = VectorAssembler(inputCols=cols, outputCol=\"features\")\n",
    "output = assembler.transform(data)\n",
    "\n",
    "output = output.withColumn('label', output['is_churn'])\n",
    "\n",
    "output.show(5)"
   ]
  },
  {
   "cell_type": "code",
   "execution_count": 74,
   "metadata": {},
   "outputs": [
    {
     "name": "stderr",
     "output_type": "stream",
     "text": [
      "                                                                                \r"
     ]
    },
    {
     "data": {
      "text/plain": [
       "754551"
      ]
     },
     "execution_count": 74,
     "metadata": {},
     "output_type": "execute_result"
    }
   ],
   "source": [
    "output.count()"
   ]
  },
  {
   "cell_type": "code",
   "execution_count": 75,
   "metadata": {},
   "outputs": [
    {
     "name": "stderr",
     "output_type": "stream",
     "text": [
      "[Stage 398:========================>                               (7 + 9) / 16]\r"
     ]
    }
   ],
   "source": [
    "from pyspark.ml.classification import LogisticRegression\n",
    "\n",
    "trainingData, testingData = output.randomSplit([0.8, 0.2])\n",
    "\n",
    "lr = LogisticRegression(maxIter=10, regParam=0.02, elasticNetParam=0.8)\n",
    "\n",
    "lrModel = lr.fit(trainingData)"
   ]
  },
  {
   "cell_type": "code",
   "execution_count": 76,
   "metadata": {},
   "outputs": [
    {
     "name": "stderr",
     "output_type": "stream",
     "text": [
      "[Stage 403:===================================================>   (16 + 1) / 17]\r"
     ]
    },
    {
     "name": "stdout",
     "output_type": "stream",
     "text": [
      "accuracy  0.8683867491775505\n"
     ]
    },
    {
     "name": "stderr",
     "output_type": "stream",
     "text": [
      "                                                                                \r"
     ]
    }
   ],
   "source": [
    "from pyspark.ml.evaluation import MulticlassClassificationEvaluator\n",
    "\n",
    "prediction_df = lrModel.transform(testingData)\n",
    "\n",
    "ev = MulticlassClassificationEvaluator()\n",
    "print('accuracy ', ev.evaluate(prediction_df))"
   ]
  }
 ],
 "metadata": {
  "kernelspec": {
   "display_name": "Python 3.8.13 ('venv': venv)",
   "language": "python",
   "name": "python3"
  },
  "language_info": {
   "codemirror_mode": {
    "name": "ipython",
    "version": 3
   },
   "file_extension": ".py",
   "mimetype": "text/x-python",
   "name": "python",
   "nbconvert_exporter": "python",
   "pygments_lexer": "ipython3",
   "version": "3.8.13"
  },
  "orig_nbformat": 4,
  "vscode": {
   "interpreter": {
    "hash": "5df0adfe8069880414e5fd086f4394283ede12c388b5908c840ef68b5ebdcf6e"
   }
  }
 },
 "nbformat": 4,
 "nbformat_minor": 2
}
